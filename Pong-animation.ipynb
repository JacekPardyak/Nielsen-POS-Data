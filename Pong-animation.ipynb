{
  "nbformat": 4,
  "nbformat_minor": 0,
  "metadata": {
    "colab": {
      "name": "Pong.ipynb",
      "provenance": [],
      "collapsed_sections": []
    },
    "kernelspec": {
      "name": "ir",
      "display_name": "R"
    },
    "language_info": {
      "name": "R"
    }
  },
  "cells": [
    {
      "cell_type": "code",
      "metadata": {
        "id": "gnKwOhXFzSN8",
        "colab": {
          "base_uri": "https://localhost:8080/"
        },
        "outputId": "99f7b03b-9a89-4dd9-fcb4-cb7331cc0f6c"
      },
      "source": [
        "system(\"sudo apt-get install -y libavfilter-dev\")\n",
        "if (!require(\"av\")) install.packages(\"av\")\n",
        "if (!require(\"gganimate\")) install.packages(\"gganimate\")\n",
        "library(tidyverse)\n",
        "library(gganimate)\n",
        "# court definition\n",
        "HEIGHT = 300\n",
        "WIDTH = 300 \n",
        "SIZE = 30"
      ],
      "execution_count": 1,
      "outputs": [
        {
          "output_type": "stream",
          "name": "stderr",
          "text": [
            "Loading required package: av\n",
            "\n",
            "Loading required package: gganimate\n",
            "\n",
            "Loading required package: ggplot2\n",
            "\n",
            "Warning message in system(\"timedatectl\", intern = TRUE):\n",
            "“running command 'timedatectl' had status 1”\n",
            "── \u001b[1mAttaching packages\u001b[22m ─────────────────────────────────────── tidyverse 1.3.1 ──\n",
            "\n",
            "\u001b[32m✔\u001b[39m \u001b[34mtibble \u001b[39m 3.1.6     \u001b[32m✔\u001b[39m \u001b[34mdplyr  \u001b[39m 1.0.7\n",
            "\u001b[32m✔\u001b[39m \u001b[34mtidyr  \u001b[39m 1.1.4     \u001b[32m✔\u001b[39m \u001b[34mstringr\u001b[39m 1.4.0\n",
            "\u001b[32m✔\u001b[39m \u001b[34mreadr  \u001b[39m 2.1.0     \u001b[32m✔\u001b[39m \u001b[34mforcats\u001b[39m 0.5.1\n",
            "\u001b[32m✔\u001b[39m \u001b[34mpurrr  \u001b[39m 0.3.4     \n",
            "\n",
            "── \u001b[1mConflicts\u001b[22m ────────────────────────────────────────── tidyverse_conflicts() ──\n",
            "\u001b[31m✖\u001b[39m \u001b[34mdplyr\u001b[39m::\u001b[32mfilter()\u001b[39m masks \u001b[34mstats\u001b[39m::filter()\n",
            "\u001b[31m✖\u001b[39m \u001b[34mdplyr\u001b[39m::\u001b[32mlag()\u001b[39m    masks \u001b[34mstats\u001b[39m::lag()\n",
            "\n"
          ]
        }
      ]
    },
    {
      "cell_type": "code",
      "metadata": {
        "id": "wnwAg7Q81-wB"
      },
      "source": [
        "x <- sample(c(1:(WIDTH -1)), 1)\n",
        "y <- sample(c(1:(HEIGHT -1)), 1)\n",
        "dx =  (-1) ^ sample(c(0, 1), 1)\n",
        "dy =  (-1) ^ sample(c(0, 1), 1)\n",
        "res <- data.frame(x = x, y = y, facet = 0)\n",
        "\n",
        "for(i in c(1:1000)){\n",
        "\n",
        "if (x <= 0 | x >= WIDTH){\n",
        "  dx = -1 * dx\n",
        " # beep(1)\n",
        "}\n",
        "  x = x + dx\n",
        "#  y = y + dy\n",
        "  x = min(max(x, 0), WIDTH)\n",
        "\n",
        "if (y <= 0 | y >= HEIGHT){\n",
        "  dy = -1 * dy\n",
        " # beep(1)\n",
        "}\n",
        " # x = x + dx\n",
        "  y = y + dy\n",
        "  y = min(max(y, 0), HEIGHT)  \n",
        "\n",
        "# render plot\n",
        "#par(mar = rep(1, 4), bg = \"black\")\n",
        "#plot.new()\n",
        "#plot.window(xlim = c(0, WIDTH), ylim = c(0, HEIGHT))\n",
        "# court\n",
        "#lines(\n",
        "#  x = c(0, WIDTH, WIDTH, 0, 0),\n",
        "#  y = c(0, 0, HEIGHT, HEIGHT, 0),\n",
        "#  type = \"l\",\n",
        "#  lwd = 5,\n",
        "#  col = \"white\"\n",
        "#)\n",
        "# ball\n",
        "#points(\n",
        "#  x = x, \n",
        "#  y = y,\n",
        "#  pch = 19, \n",
        "#  col = \"white\", \n",
        "#  cex = 3\n",
        "#)\n",
        "# labels\n",
        "#text(\n",
        "#  x = x, \n",
        "#  y = y + 10,\n",
        "#  labels = paste(paste(\"(\", x ), paste(y , \")\"), sep = \", \"), \n",
        "#  col = \"white\", \n",
        "#  cex = 2\n",
        "#)\n",
        "res <- res %>% bind_rows(data.frame(x = x, y = y, facet = i))\n",
        "}"
      ],
      "execution_count": 2,
      "outputs": []
    },
    {
      "cell_type": "code",
      "metadata": {
        "id": "SxBLM-X-4Tlv"
      },
      "source": [
        "anim <- ggplot(res, aes(x, y, col = \"white\" )) +\n",
        " geom_point(size = 3) + \n",
        " geom_path(aes(x, y, col = \"white\"), \n",
        " data = data.frame(x = c(0, WIDTH, WIDTH, 0, 0),\n",
        "                   y = c(0, 0, HEIGHT, HEIGHT, 0))) +\n",
        "  scale_colour_identity() +\n",
        "  scale_fill_identity() +  theme_void() + \n",
        "  theme(panel.background = element_rect(fill = \"black\", colour= \"black\")) +\n",
        "  transition_states(facet)\n",
        "#anim"
      ],
      "execution_count": 3,
      "outputs": []
    },
    {
      "cell_type": "code",
      "metadata": {
        "id": "AT8IhE98Ejqy"
      },
      "source": [
        "# download audio\n",
        "url = \"https://github.com/JacekPardyak/vps/raw/master/anim/Blue%20Dot%20Sessions%20-%20Tangle.mp3\"\n",
        "audio = tempfile(tmpdir = tempdir(), fileext = \".mp3\")\n",
        "download.file(url, audio)"
      ],
      "execution_count": 4,
      "outputs": []
    },
    {
      "cell_type": "code",
      "metadata": {
        "id": "01ya113p32lQ"
      },
      "source": [
        "movie <- animate(anim, duration = 35, fps = 10, \n",
        "                 options(gganimate.dev_args = \n",
        "                           list(width = 1920 , height = 1080)),\n",
        "                 renderer = av_renderer(audio = audio))\n",
        "anim_save(\"/tmp/output.mp4\", movie)"
      ],
      "execution_count": 5,
      "outputs": []
    }
  ]
}